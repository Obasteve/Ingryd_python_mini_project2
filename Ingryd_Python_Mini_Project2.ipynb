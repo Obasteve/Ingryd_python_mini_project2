{
 "cells": [
  {
   "cell_type": "code",
   "execution_count": 2,
   "id": "e1bc4c78",
   "metadata": {},
   "outputs": [
    {
     "data": {
      "text/plain": [
       "\"\\nYou're working for an online marketplace. \\nUsers often search for products using keywords. Given \\na list of product names and their corresponding IDs, \\ndesign a function that allows users to input a keyword \\nand quickly find the product they are looking for. \\nImplement a linear search algorithm to search for the \\nkeyword in the list of product names and return the \\ncorresponding product ID.\\n\""
      ]
     },
     "execution_count": 2,
     "metadata": {},
     "output_type": "execute_result"
    }
   ],
   "source": [
    "\"\"\"\n",
    "You're working for an online marketplace. \n",
    "Users often search for products using keywords. Given \n",
    "a list of product names and their corresponding IDs, \n",
    "design a function that allows users to input a keyword \n",
    "and quickly find the product they are looking for. \n",
    "Implement a linear search algorithm to search for the \n",
    "keyword in the list of product names and return the \n",
    "corresponding product ID.\n",
    "\"\"\""
   ]
  },
  {
   "cell_type": "code",
   "execution_count": 3,
   "id": "61d81764",
   "metadata": {},
   "outputs": [
    {
     "name": "stdout",
     "output_type": "stream",
     "text": [
      "Enter a keyword to search for a product: U\n",
      "Product not found for the given keyword.\n"
     ]
    }
   ],
   "source": [
    "def linear_search(products, keyword):\n",
    "    for product_id, product_name in products.items():\n",
    "        if keyword in product_name:\n",
    "            return product_id\n",
    "    return None  # Return None if the keyword is not found\n",
    "\n",
    "# Example list of product names and IDs\n",
    "product_list = {\n",
    "    'P001': 'Apple iPhone 12',\n",
    "    'P002': 'Samsung Galaxy S21',\n",
    "    'P003': 'Google Pixel 5',\n",
    "    'P004': 'Sony Xperia 1 III',\n",
    "    'P005': 'OnePlus 9 Pro',\n",
    "    # ... Add more products here\n",
    "}\n",
    "\n",
    "# Get user input for the keyword\n",
    "search_keyword = input(\"Enter a keyword to search for a product: \")\n",
    "\n",
    "# Perform linear search\n",
    "result = linear_search(product_list, search_keyword)\n",
    "\n",
    "if result is not None:\n",
    "    print(f\"Product found! Product ID: {result}\")\n",
    "else:\n",
    "    print(\"Product not found for the given keyword.\")"
   ]
  },
  {
   "cell_type": "code",
   "execution_count": null,
   "id": "d03db037",
   "metadata": {},
   "outputs": [],
   "source": []
  }
 ],
 "metadata": {
  "kernelspec": {
   "display_name": "Python 3 (ipykernel)",
   "language": "python",
   "name": "python3"
  },
  "language_info": {
   "codemirror_mode": {
    "name": "ipython",
    "version": 3
   },
   "file_extension": ".py",
   "mimetype": "text/x-python",
   "name": "python",
   "nbconvert_exporter": "python",
   "pygments_lexer": "ipython3",
   "version": "3.9.12"
  }
 },
 "nbformat": 4,
 "nbformat_minor": 5
}
